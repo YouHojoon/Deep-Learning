{
  "nbformat": 4,
  "nbformat_minor": 0,
  "metadata": {
    "colab": {
      "name": "Convolution_AutoEncoder.ipynb",
      "provenance": []
    },
    "kernelspec": {
      "name": "python3",
      "display_name": "Python 3"
    },
    "accelerator": "GPU"
  },
  "cells": [
    {
      "cell_type": "code",
      "metadata": {
        "id": "tBOcdZO6t9T9"
      },
      "source": [
        "import numpy as np\r\n",
        "import torch\r\n",
        "import torch.nn as nn\r\n",
        "import torch.optim as optim\r\n",
        "import torch.nn.init as init\r\n",
        "import torchvision.datasets as dset\r\n",
        "import torchvision.transforms as transforms\r\n",
        "from torch.utils.data import DataLoader\r\n",
        "import matplotlib.pyplot as plt\r\n",
        "import itertools\r\n",
        "%matplotlib inline\r\n",
        "\r\n",
        "mnist_train=dset.MNIST('../', train=True, transform=transforms.ToTensor(), target_transform=None, download=True)\r\n",
        "mnist_test=dset.MNIST('../', train=False, transform=transforms.ToTensor(), target_transform=None, download=True)\r\n",
        "\r\n",
        "batch_size=100\r\n",
        "train_loader = torch.utils.data.DataLoader(mnist_train, batch_size=batch_size, shuffle=True, num_workers=2, drop_last=True)\r\n",
        "test_loader = torch.utils.data.DataLoader(mnist_test, batch_size=batch_size, shuffle=False, num_workers=2, drop_last=True)"
      ],
      "execution_count": 29,
      "outputs": []
    },
    {
      "cell_type": "code",
      "metadata": {
        "id": "3IErc8HJu-k6"
      },
      "source": [
        "class Encoder(nn.Module):\r\n",
        "    def __init__(self):\r\n",
        "        super(Encoder,self).__init__()\r\n",
        "        self.layer1 = nn.Sequential(\r\n",
        "                        nn.Conv2d(1,16,3,padding=1),   # batch x 16 x 28 x 28\r\n",
        "                        nn.ReLU(),\r\n",
        "                        nn.BatchNorm2d(16),\r\n",
        "                        nn.Conv2d(16,32,3,padding=1),  # batch x 32 x 28 x 28\r\n",
        "                        nn.ReLU(),\r\n",
        "                        nn.BatchNorm2d(32),\r\n",
        "                        nn.Conv2d(32,64,3,padding=1),  # batch x 32 x 28 x 28\r\n",
        "                        nn.ReLU(),\r\n",
        "                        nn.BatchNorm2d(64),\r\n",
        "                        nn.MaxPool2d(2,2)              # batch x 64 x 14 x 14\r\n",
        "        )\r\n",
        "        self.layer2 = nn.Sequential(\r\n",
        "                        nn.Conv2d(64,128,3,padding=1),  # batch x 128 x 14 x 14\r\n",
        "                        nn.ReLU(),\r\n",
        "                        nn.BatchNorm2d(128),\r\n",
        "                        nn.MaxPool2d(2,2),\r\n",
        "                        nn.Conv2d(128,256,3,padding=1),  # batch x 256 x 7 x 7\r\n",
        "                        nn.ReLU()\r\n",
        "        )\r\n",
        "        \r\n",
        "                \r\n",
        "    def forward(self,x):\r\n",
        "        out = self.layer1(x)\r\n",
        "        out = self.layer2(out)\r\n",
        "        out = out.view(batch_size, -1)\r\n",
        "        return out\r\n",
        "    \r\n",
        "encoder = Encoder().cuda()"
      ],
      "execution_count": 20,
      "outputs": []
    },
    {
      "cell_type": "code",
      "metadata": {
        "id": "tEidLNRBwJye"
      },
      "source": [
        "class Decoder(nn.Module):\r\n",
        "    def __init__(self):\r\n",
        "        super(Decoder,self).__init__()\r\n",
        "        self.layer1 = nn.Sequential(\r\n",
        "                        nn.ConvTranspose2d(256,128,3,2,1,1),\r\n",
        "                        nn.ReLU(),\r\n",
        "                        nn.BatchNorm2d(128),\r\n",
        "                        nn.ConvTranspose2d(128,64,3,1,1),\r\n",
        "                        nn.ReLU(),\r\n",
        "                        nn.BatchNorm2d(64)\r\n",
        "        )\r\n",
        "        self.layer2 = nn.Sequential(\r\n",
        "                        nn.ConvTranspose2d(64,16,3,1,1),\r\n",
        "                        nn.ReLU(),\r\n",
        "                        nn.BatchNorm2d(16),\r\n",
        "                        nn.ConvTranspose2d(16,1,3,2,1,1),\r\n",
        "                        nn.ReLU()\r\n",
        "        )\r\n",
        "        \r\n",
        "    def forward(self,x):\r\n",
        "        out = x.view(batch_size,256,7,7)\r\n",
        "        out = self.layer1(out)\r\n",
        "        out = self.layer2(out)\r\n",
        "        return out\r\n",
        "\r\n",
        "decoder = Decoder().cuda()"
      ],
      "execution_count": 21,
      "outputs": []
    },
    {
      "cell_type": "code",
      "metadata": {
        "id": "jjWzEetzwPH_"
      },
      "source": [
        "parameters = itertools.chain(encoder.parameters(), decoder.parameters())\r\n",
        "loss_func = nn.MSELoss()\r\n",
        "optimizer = torch.optim.Adam(parameters, lr=0.0002)"
      ],
      "execution_count": 22,
      "outputs": []
    },
    {
      "cell_type": "code",
      "metadata": {
        "colab": {
          "base_uri": "https://localhost:8080/"
        },
        "id": "a0nyR9CTzbpY",
        "outputId": "02d454c5-4591-427e-d963-3775ebddcf6b"
      },
      "source": [
        "num_epoch = 10\r\n",
        "\r\n",
        "for i in range(num_epoch):\r\n",
        "    for j,[image,label] in enumerate(train_loader):\r\n",
        "        optimizer.zero_grad()\r\n",
        "        \r\n",
        "        image = image.cuda()\r\n",
        "        z = encoder(image)\r\n",
        "        output = decoder(z)\r\n",
        "        loss = loss_func(output,image)\r\n",
        "        \r\n",
        "        loss.backward()\r\n",
        "        optimizer.step()\r\n",
        "        \r\n",
        "    print(\"loss is\", loss.cpu().item())"
      ],
      "execution_count": 23,
      "outputs": [
        {
          "output_type": "stream",
          "text": [
            "loss is 0.005081507842987776\n",
            "loss is 0.0035079114604741335\n",
            "loss is 0.0023649060167372227\n",
            "loss is 0.0020912489853799343\n",
            "loss is 0.0019090865971520543\n",
            "loss is 0.0014141048304736614\n",
            "loss is 0.0013267125468701124\n",
            "loss is 0.0010808780789375305\n",
            "loss is 0.0009945278288796544\n",
            "loss is 0.0008611671510152519\n"
          ],
          "name": "stdout"
        }
      ]
    },
    {
      "cell_type": "code",
      "metadata": {
        "colab": {
          "base_uri": "https://localhost:8080/",
          "height": 1000
        },
        "id": "H0m4vXklz8XB",
        "outputId": "68b99863-81ad-40b0-e447-e3fcae00b60d"
      },
      "source": [
        "out_img = torch.squeeze(output.cpu().data)\r\n",
        "print(out_img.size())\r\n",
        "for i in range(5):\r\n",
        "  plt.imshow(out_img[i].numpy(),cmap='gray')\r\n",
        "  plt.show()"
      ],
      "execution_count": 24,
      "outputs": [
        {
          "output_type": "stream",
          "text": [
            "torch.Size([100, 28, 28])\n"
          ],
          "name": "stdout"
        },
        {
          "output_type": "display_data",
          "data": {
            "image/png": "[encoded data removed]",
            "text/plain": [
              "<Figure size 432x288 with 1 Axes>"
            ]
          },
          "metadata": {
            "tags": [],
            "needs_background": "light"
          }
        },
        {
          "output_type": "display_data",
          "data": {
            "image/png": "[encoded data removed]",
            "text/plain": [
              "<Figure size 432x288 with 1 Axes>"
            ]
          },
          "metadata": {
            "tags": [],
            "needs_background": "light"
          }
        },
        {
          "output_type": "display_data",
          "data": {
            "image/png": "[encoded data removed]",
            "text/plain": [
              "<Figure size 432x288 with 1 Axes>"
            ]
          },
          "metadata": {
            "tags": [],
            "needs_background": "light"
          }
        },
        {
          "output_type": "display_data",
          "data": {
            "image/png": "[encoded data removed]",
            "text/plain": [
              "<Figure size 432x288 with 1 Axes>"
            ]
          },
          "metadata": {
            "tags": [],
            "needs_background": "light"
          }
        },
        {
          "output_type": "display_data",
          "data": {
            "image/png": "[encoded data removed]",
            "text/plain": [
              "<Figure size 432x288 with 1 Axes>"
            ]
          },
          "metadata": {
            "tags": [],
            "needs_background": "light"
          }
        }
      ]
    },
    {
      "cell_type": "code",
      "metadata": {
        "colab": {
          "base_uri": "https://localhost:8080/"
        },
        "id": "huSA3ud_1bq-",
        "outputId": "54e1fa35-0dcb-4d14-aa8c-e11c656f3960"
      },
      "source": [
        "for i in range(1):\r\n",
        "    for j,[image,label] in enumerate(test_loader):\r\n",
        "       \r\n",
        "        image = image.cuda()\r\n",
        "        z = encoder(image)\r\n",
        "        output = decoder(z)\r\n",
        "        \r\n",
        "    print(\"loss is\", loss.cpu().item())     "
      ],
      "execution_count": 30,
      "outputs": [
        {
          "output_type": "stream",
          "text": [
            "loss is 0.0008611671510152519\n"
          ],
          "name": "stdout"
        }
      ]
    },
    {
      "cell_type": "code",
      "metadata": {
        "colab": {
          "base_uri": "https://localhost:8080/",
          "height": 1000
        },
        "id": "FxT5mVz14Ujc",
        "outputId": "a4240b46-df5a-40b3-eb61-1e503ed14760"
      },
      "source": [
        "out_img = torch.squeeze(output.cpu().data)\r\n",
        "print(out_img.size())\r\n",
        "\r\n",
        "for i in range(5):\r\n",
        "    plt.imshow(torch.squeeze(image[i].cpu()).data.numpy(),cmap='gray')\r\n",
        "    plt.show()\r\n",
        "    plt.imshow(out_img[i].numpy(),cmap='gray')\r\n",
        "    plt.show()"
      ],
      "execution_count": 31,
      "outputs": [
        {
          "output_type": "stream",
          "text": [
            "torch.Size([100, 28, 28])\n"
          ],
          "name": "stdout"
        },
        {
          "output_type": "display_data",
          "data": {
            "image/png": "[encoded data removed]",
            "text/plain": [
              "<Figure size 432x288 with 1 Axes>"
            ]
          },
          "metadata": {
            "tags": [],
            "needs_background": "light"
          }
        },
        {
          "output_type": "display_data",
          "data": {
            "image/png": "[encoded data removed]",
            "text/plain": [
              "<Figure size 432x288 with 1 Axes>"
            ]
          },
          "metadata": {
            "tags": [],
            "needs_background": "light"
          }
        },
        {
          "output_type": "display_data",
          "data": {
            "image/png": "[encoded data removed]",
            "text/plain": [
              "<Figure size 432x288 with 1 Axes>"
            ]
          },
          "metadata": {
            "tags": [],
            "needs_background": "light"
          }
        },
        {
          "output_type": "display_data",
          "data": {
            "image/png": "[encoded data removed]",
            "text/plain": [
              "<Figure size 432x288 with 1 Axes>"
            ]
          },
          "metadata": {
            "tags": [],
            "needs_background": "light"
          }
        },
        {
          "output_type": "display_data",
          "data": {
            "image/png": "[encoded data removed]",
            "text/plain": [
              "<Figure size 432x288 with 1 Axes>"
            ]
          },
          "metadata": {
            "tags": [],
            "needs_background": "light"
          }
        },
        {
          "output_type": "display_data",
          "data": {
            "image/png": "[encoded data removed]",
            "text/plain": [
              "<Figure size 432x288 with 1 Axes>"
            ]
          },
          "metadata": {
            "tags": [],
            "needs_background": "light"
          }
        },
        {
          "output_type": "display_data",
          "data": {
            "image/png": "[encoded data removed]",
            "text/plain": [
              "<Figure size 432x288 with 1 Axes>"
            ]
          },
          "metadata": {
            "tags": [],
            "needs_background": "light"
          }
        },
        {
          "output_type": "display_data",
          "data": {
            "image/png": "[encoded data removed]",
            "text/plain": [
              "<Figure size 432x288 with 1 Axes>"
            ]
          },
          "metadata": {
            "tags": [],
            "needs_background": "light"
          }
        },
        {
          "output_type": "display_data",
          "data": {
            "image/png": "[encoded data removed]",
            "text/plain": [
              "<Figure size 432x288 with 1 Axes>"
            ]
          },
          "metadata": {
            "tags": [],
            "needs_background": "light"
          }
        },
        {
          "output_type": "display_data",
          "data": {
            "image/png": "[encoded data removed]",
            "text/plain": [
              "<Figure size 432x288 with 1 Axes>"
            ]
          },
          "metadata": {
            "tags": [],
            "needs_background": "light"
          }
        }
      ]
    }
  ]
}